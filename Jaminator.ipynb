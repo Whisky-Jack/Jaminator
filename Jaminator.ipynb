{
  "nbformat": 4,
  "nbformat_minor": 0,
  "metadata": {
    "kernelspec": {
      "display_name": "Python 3",
      "language": "python",
      "name": "python3"
    },
    "language_info": {
      "codemirror_mode": {
        "name": "ipython",
        "version": 3
      },
      "file_extension": ".py",
      "mimetype": "text/x-python",
      "name": "python",
      "nbconvert_exporter": "python",
      "pygments_lexer": "ipython3",
      "version": "3.7.6"
    },
    "colab": {
      "name": "Jaminator.ipynb",
      "provenance": []
    }
  },
  "cells": [
    {
      "cell_type": "code",
      "metadata": {
        "id": "6d9PDRTQpBxm",
        "colab_type": "code",
        "colab": {}
      },
      "source": [
        "print(\"Let's get this fucking bread\")\n",
        "print(\"Yeet\")"
      ],
      "execution_count": 0,
      "outputs": []
    }
  ]
}