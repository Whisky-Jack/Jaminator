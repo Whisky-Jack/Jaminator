{
  "nbformat": 4,
  "nbformat_minor": 0,
  "metadata": {
    "kernelspec": {
      "display_name": "Python 3",
      "language": "python",
      "name": "python3"
    },
    "language_info": {
      "codemirror_mode": {
        "name": "ipython",
        "version": 3
      },
      "file_extension": ".py",
      "mimetype": "text/x-python",
      "name": "python",
      "nbconvert_exporter": "python",
      "pygments_lexer": "ipython3",
      "version": "3.7.6"
    },
    "colab": {
      "name": "Jaminator.ipynb",
      "provenance": []
    }
  },
  "cells": [
    {
      "cell_type": "code",
      "metadata": {
        "id": "6d9PDRTQpBxm",
        "colab_type": "code",
        "colab": {}
      },
      "source": [
        "# Use this to load data from google drive (you must create a Data folder and fill it with kaggle content)\n",
        "from google.colab import drive\n",
        "drive.mount('/content/drive')\n",
        "% cd /content/drive/'My Drive'\n",
        "! pwd\n",
        "! ls"
      ],
      "execution_count": 0,
      "outputs": []
    },
    {
      "cell_type": "code",
      "metadata": {
        "id": "TRIzSATcVsVI",
        "colab_type": "code",
        "colab": {}
      },
      "source": [
        "# Load Files"
      ],
      "execution_count": 0,
      "outputs": []
    },
    {
      "cell_type": "markdown",
      "metadata": {
        "id": "x1sETSkEXRc-",
        "colab_type": "text"
      },
      "source": [
        "-The neural network should probably be an LSTM\n",
        "\n",
        "-The input of the next frame predictor should probably be the previous frame, previous audio and current audio \n",
        "\n",
        "-Dimensionality of the data could be a problem\n",
        "\n",
        "-Train on WIWDD, then predict for new video given initial frame\n",
        "\n",
        "-At some point want to give it multiple frames, and then have it link them"
      ]
    },
    {
      "cell_type": "code",
      "metadata": {
        "id": "su0EARCJVv9P",
        "colab_type": "code",
        "colab": {}
      },
      "source": [
        "# Define Network"
      ],
      "execution_count": 0,
      "outputs": []
    },
    {
      "cell_type": "code",
      "metadata": {
        "id": "rE4C5eDCVy-J",
        "colab_type": "code",
        "colab": {}
      },
      "source": [
        "# Train Network"
      ],
      "execution_count": 0,
      "outputs": []
    }
  ]
}